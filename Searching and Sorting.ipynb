{
 "cells": [
  {
   "cell_type": "code",
   "execution_count": 1,
   "metadata": {},
   "outputs": [
    {
     "data": {
      "text/plain": [
       "2"
      ]
     },
     "execution_count": 1,
     "metadata": {},
     "output_type": "execute_result"
    }
   ],
   "source": [
    "#Linear Search\n",
    "def linear_search(L,v):\n",
    "# Return the index of the first occurrence of v in L,or return -1 if v is not in L.\n",
    "    \n",
    "    i = 0\n",
    "    while i !=  len(L) and v != L[i]:\n",
    "        i += 1\n",
    "        \n",
    "    if i == len(L):\n",
    "        return -1\n",
    "    else:\n",
    "        return i\n",
    "    \n",
    "linear_search([1,2,3,4],3)       "
   ]
  },
  {
   "cell_type": "code",
   "execution_count": 2,
   "metadata": {},
   "outputs": [
    {
     "data": {
      "text/plain": [
       "5"
      ]
     },
     "execution_count": 2,
     "metadata": {},
     "output_type": "execute_result"
    }
   ],
   "source": [
    "#Binary Search\n",
    "def binary_search(L,v):\n",
    "#precondition: Lis sorted from smallest to largest, and all the items in L can be compared to v\n",
    "    b =0\n",
    "    e = len(L)-1\n",
    "    while b <= e:\n",
    "        m = (b+e) // 2\n",
    "        if L[m] < v:\n",
    "            b = m + 1\n",
    "        else:\n",
    "            e = m - 1\n",
    "    if b == len(L) or L[b] != v:\n",
    "        return -1\n",
    "    else:\n",
    "        return b\n",
    "\n",
    "binary_search([2,3,4,4,5,6],6)"
   ]
  },
  {
   "cell_type": "code",
   "execution_count": null,
   "metadata": {},
   "outputs": [],
   "source": [
    "#Bubble_Sort\n",
    "\n",
    "#sort the item of L from smallest to largest\n",
    "#The index of the last unsorted item.\n",
    "def bubble_sort(L):\n",
    "    \n",
    "    end = len(L) - 1\n",
    "    \n",
    "    while end != 0:\n",
    "        for i in range(end):\n",
    "            if L[i] > L[i + 1]:\n",
    "                L[i], L[i + 1] = L[i + 1], L[i]     \n",
    "        end = end - 1\n",
    "    for i in range(len(L)):\n",
    "        print(L[i], end = \"\")\n",
    "    \n",
    "L = [3,4,6,2,5,6,2,1]\n",
    "bubble_sort(L)"
   ]
  },
  {
   "cell_type": "code",
   "execution_count": 2,
   "metadata": {},
   "outputs": [
    {
     "name": "stdout",
     "output_type": "stream",
     "text": [
      "1223456"
     ]
    }
   ],
   "source": [
    "#Selection_sort\n",
    "#Find the index of the smallest item in L[i:] and swaap that item with the item at index i.\n",
    "def get_index_of_smallest(L,i):\n",
    "    index_of_smallest = i\n",
    "    for j in range(i+1, len(L)):\n",
    "        if L[j] < L[index_of_smallest]:\n",
    "            index_of_smallest = j\n",
    "    return index_of_smallest\n",
    "\n",
    "def selection_sort(L):\n",
    "    for i in range(len(L)):\n",
    "        index_of_smallest = get_index_of_smallest(L,i)\n",
    "        L[index_of_smallest], L[i] = L[i], L[index_of_smallest]\n",
    "    for i in range(len(L)):\n",
    "        print(L[i], end = \"\")\n",
    "L = [3,4,6,2,5,2,1]\n",
    "selection_sort(L)"
   ]
  },
  {
   "cell_type": "code",
   "execution_count": null,
   "metadata": {},
   "outputs": [],
   "source": [
    "#Insertion_Sort\n",
    "def insert(L,i):\n",
    "#The value to be insertedinto the sorted part of the list\n",
    "    value = L[i]\n",
    "#Find the index, j, where the value belongs.\n",
    "#make room for the value by shifting.\n",
    "    j = i\n",
    "    while j != 0 and L[j - 1] > value:\n",
    "        #shift L[j - 1] one position to the right to L[j].\n",
    "        L[j] = L[j - 1]\n",
    "        #put the value where it belongs.\n",
    "        j = j-1\n",
    "def  insertion_sort(L):\n",
    "    for i in range(len(L))\n",
    "    "
   ]
  },
  {
   "cell_type": "code",
   "execution_count": null,
   "metadata": {},
   "outputs": [],
   "source": []
  },
  {
   "cell_type": "code",
   "execution_count": null,
   "metadata": {},
   "outputs": [],
   "source": []
  }
 ],
 "metadata": {
  "kernelspec": {
   "display_name": "Python 3",
   "language": "python",
   "name": "python3"
  },
  "language_info": {
   "codemirror_mode": {
    "name": "ipython",
    "version": 3
   },
   "file_extension": ".py",
   "mimetype": "text/x-python",
   "name": "python",
   "nbconvert_exporter": "python",
   "pygments_lexer": "ipython3",
   "version": "3.6.7"
  }
 },
 "nbformat": 4,
 "nbformat_minor": 2
}

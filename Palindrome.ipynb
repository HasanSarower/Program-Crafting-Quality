{
 "cells": [
  {
   "cell_type": "code",
   "execution_count": 1,
   "metadata": {},
   "outputs": [],
   "source": [
    "def is_palindrome_v1(s):\n",
    "    \n",
    "    return reverse(s) == s\n",
    "    \n",
    "    \n",
    "def reverse(s):\n",
    "    rev = ''\n",
    "    #reversing characters\n",
    "    for ch in s:\n",
    "        rev = ch + rev\n",
    "    return rev"
   ]
  },
  {
   "cell_type": "code",
   "execution_count": 2,
   "metadata": {},
   "outputs": [],
   "source": [
    " def is_palindrome_v2(s):\n",
    "        n = len(s)\n",
    "        #compare the first half of s to the reverse of the second half.\n",
    "        #omit the middle character of an odd-length string.\n",
    "        return s[:n // 2] == reverse(s[n - n // 2:])\n"
   ]
  },
  {
   "cell_type": "code",
   "execution_count": 6,
   "metadata": {},
   "outputs": [
    {
     "name": "stdout",
     "output_type": "stream",
     "text": [
      "False\n"
     ]
    }
   ],
   "source": [
    "def is_palindrome_v3(s):\n",
    "    i = 0\n",
    "    j = len(s) - 1\n",
    "    \n",
    "    while i < j and s[i] == s[j]:\n",
    "        i = i + 1\n",
    "        j = j - 1 \n",
    "    #after reaching the middle position, in odd length i = j and in even length j < i \n",
    "    return j <= i\n",
    "\n",
    "\n",
    "    \n",
    "print(is_palindrome_v3('dented'))\n",
    "print(is_palindrome_v3('noon'))"
   ]
  },
  {
   "cell_type": "code",
   "execution_count": 9,
   "metadata": {},
   "outputs": [
    {
     "name": "stdout",
     "output_type": "stream",
     "text": [
      "False\n",
      "False\n",
      "True\n",
      "True\n"
     ]
    }
   ],
   "source": [
    "print(is_palindrome_v1('dented'))\n",
    "print(is_palindrome_v2('dented'))\n",
    "print(is_palindrome_v1('noon'))\n",
    "print(is_palindrome_v2('racecar'))"
   ]
  },
  {
   "cell_type": "code",
   "execution_count": null,
   "metadata": {},
   "outputs": [],
   "source": []
  },
  {
   "cell_type": "code",
   "execution_count": null,
   "metadata": {},
   "outputs": [],
   "source": []
  }
 ],
 "metadata": {
  "kernelspec": {
   "display_name": "Python 3",
   "language": "python",
   "name": "python3"
  },
  "language_info": {
   "codemirror_mode": {
    "name": "ipython",
    "version": 3
   },
   "file_extension": ".py",
   "mimetype": "text/x-python",
   "name": "python",
   "nbconvert_exporter": "python",
   "pygments_lexer": "ipython3",
   "version": "3.6.7"
  }
 },
 "nbformat": 4,
 "nbformat_minor": 2
}
